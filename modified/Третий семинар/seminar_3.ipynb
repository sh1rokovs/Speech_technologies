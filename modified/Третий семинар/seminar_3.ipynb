{
  "nbformat": 4,
  "nbformat_minor": 0,
  "metadata": {
    "kernelspec": {
      "name": "python3",
      "display_name": "Yandex DataSphere Kernel",
      "language": "python"
    },
    "language_info": {
      "pygments_lexer": "ipython3",
      "nbconvert_exporter": "python",
      "name": "python",
      "codemirror_mode": {
        "version": 3,
        "name": "ipython"
      },
      "mimetype": "text/x-python",
      "version": "3.7.7",
      "file_extension": ".py"
    },
    "notebookId": "dd4fa089-c5a2-4ef5-ad2e-6152d5ace7bc",
    "pycharm": {
      "stem_cell": {
        "cell_type": "raw",
        "metadata": {
          "collapsed": false
        },
        "source": []
      }
    },
    "colab": {
      "provenance": []
    },
    "gpuClass": "standard"
  },
  "cells": [
    {
      "cell_type": "markdown",
      "source": [
        "# Seminar 3: CTC Forward-Backward and Greedy Decoder\n",
        "\n",
        "The goal of this seminar is to implement the CTC Forward-Backward algorith for Soft-Alignment and Greedy Decoder"
      ],
      "metadata": {
        "cellId": "z5qfpgxviokgo9ewdahyxr",
        "id": "3lp77mfKWRj_"
      }
    },
    {
      "cell_type": "code",
      "source": [
        "!pip install arpa"
      ],
      "metadata": {
        "colab": {
          "base_uri": "https://localhost:8080/"
        },
        "id": "3lb_JK_sZj98",
        "outputId": "b539abe1-1968-41de-93d0-5897e016f277"
      },
      "execution_count": null,
      "outputs": [
        {
          "output_type": "stream",
          "name": "stdout",
          "text": [
            "Looking in indexes: https://pypi.org/simple, https://us-python.pkg.dev/colab-wheels/public/simple/\n",
            "Collecting arpa\n",
            "  Downloading arpa-0.1.0b4-py3-none-any.whl (9.6 kB)\n",
            "Installing collected packages: arpa\n",
            "Successfully installed arpa-0.1.0b4\n"
          ]
        }
      ]
    },
    {
      "cell_type": "code",
      "source": [
        "%%capture\n",
        "!pip install wandb -qqq"
      ],
      "metadata": {
        "id": "UqLliFp7Zkf6"
      },
      "execution_count": null,
      "outputs": []
    },
    {
      "cell_type": "code",
      "source": [
        "# comment out if needed\n",
        "!mkdir week_05_files\n",
        "!wget -O week_05_files/utils.py https://raw.githubusercontent.com/yandexdataschool/speech_course/main/week_05/utils.py\n",
        "!wget -O week_05_files/test_matrix.txt -q https://raw.githubusercontent.com/yandexdataschool/speech_course/main/week_05/test_matrix.txt\n",
        "!wget -O week_05_files/soft_alignment.txt -q https://raw.githubusercontent.com/yandexdataschool/speech_course/main/week_05/soft_alignment.txt\n",
        "!wget -O week_05_files/test_decode.txt -q https://raw.githubusercontent.com/yandexdataschool/speech_course/main/week_05/test_decode.txt\n",
        "!wget -O week_05_files/test_labels.txt -q https://raw.githubusercontent.com/yandexdataschool/speech_course/main/week_05/test_labels.txt\n",
        "!wget -O week_05_files/3-gram.pruned.1e-7.arpa -q https://raw.githubusercontent.com/yandexdataschool/speech_course/main/week_05/3-gram.pruned.1e-7.arpa"
      ],
      "metadata": {
        "colab": {
          "base_uri": "https://localhost:8080/"
        },
        "id": "FJiUCkgTvBS9",
        "outputId": "983f4fc1-5edc-4636-c654-79d384c7aaf3"
      },
      "execution_count": null,
      "outputs": [
        {
          "output_type": "stream",
          "name": "stdout",
          "text": [
            "--2022-10-03 15:07:00--  https://raw.githubusercontent.com/yandexdataschool/speech_course/main/week_05/utils.py\n",
            "Resolving raw.githubusercontent.com (raw.githubusercontent.com)... 185.199.109.133, 185.199.110.133, 185.199.111.133, ...\n",
            "Connecting to raw.githubusercontent.com (raw.githubusercontent.com)|185.199.109.133|:443... connected.\n",
            "HTTP request sent, awaiting response... 200 OK\n",
            "Length: 6770 (6.6K) [text/plain]\n",
            "Saving to: ‘week_05_files/utils.py’\n",
            "\n",
            "week_05_files/utils 100%[===================>]   6.61K  --.-KB/s    in 0s      \n",
            "\n",
            "2022-10-03 15:07:01 (41.5 MB/s) - ‘week_05_files/utils.py’ saved [6770/6770]\n",
            "\n"
          ]
        }
      ]
    },
    {
      "cell_type": "code",
      "source": [
        "#!L\n",
        "import math\n",
        "import os\n",
        "import shutil\n",
        "import string\n",
        "import time\n",
        "from collections import defaultdict\n",
        "from typing import List, Tuple, TypeVar, Optional, Callable, Iterable\n",
        "\n",
        "import arpa\n",
        "import matplotlib\n",
        "import matplotlib.pyplot as plt\n",
        "import numpy as np\n",
        "import torch\n",
        "import torchaudio\n",
        "import torch.nn as nn\n",
        "import torch.nn.functional as F\n",
        "import torch.utils.data as data\n",
        "import wandb\n",
        "from matplotlib.colors import LogNorm\n",
        "from torch import optim\n",
        "from tqdm.notebook import tqdm\n",
        "import week_05_files.utils as utils   # Change relative path if needed"
      ],
      "metadata": {
        "cellId": "0jg5sfs7qowv79473xsi8eu",
        "trusted": true,
        "id": "rxjwjhFgWRkD"
      },
      "outputs": [],
      "execution_count": null
    },
    {
      "cell_type": "markdown",
      "source": [
        "## Tokenizer Class"
      ],
      "metadata": {
        "cellId": "abgm2usdt24l6itvepmw8",
        "id": "neXXN-WwWRkE"
      }
    },
    {
      "cell_type": "code",
      "source": [
        "# Helper functions\n",
        "BLANK_SYMBOL = \"_\"\n",
        "\n",
        "class Tokenizer:\n",
        "    \"\"\"\n",
        "    Maps characters to integers and vice versa\n",
        "    \"\"\"\n",
        "    def __init__(self):\n",
        "        self.char_map = {}\n",
        "        self.index_map = {}\n",
        "        for i, ch in enumerate([\"'\", \" \"] + list(string.ascii_lowercase) + [BLANK_SYMBOL]):\n",
        "            self.char_map[ch] = i\n",
        "            self.index_map[i] = ch\n",
        "        \n",
        "    def text_to_indices(self, text: str) -> List[int]:\n",
        "        return [self.char_map[ch] for ch in text]\n",
        "\n",
        "    def indices_to_text(self, labels: List[int]) -> str:                                                                                                                                                                                                                                 \n",
        "        return \"\".join([self.index_map[i] for i in labels])\n",
        "    \n",
        "    def get_symbol_index(self, sym: str) -> int:\n",
        "        return self.char_map[sym]\n",
        "    \n",
        "\n",
        "tokenizer = Tokenizer()\n",
        "\n",
        "NEG_INF = -float(\"inf\")\n",
        "\n",
        "\n",
        "def logsumexp(*args) -> float:\n",
        "    \"\"\"\n",
        "    Log-sum-exp trick for log-domain calculations\n",
        "    See for details: https://en.wikipedia.org/wiki/LogSumExp\n",
        "    \"\"\"\n",
        "    if all(a == NEG_INF for a in args):\n",
        "        return NEG_INF\n",
        "    a_max = max(args)\n",
        "    lsp = math.log(sum(math.exp(a - a_max) for a in args))\n",
        "    return a_max + lsp\n",
        "\n",
        "\n",
        "def modify_sequence(sequence: List[int], blank_idx: int) -> List[int]:\n",
        "    \"\"\"\n",
        "    Modifies sequence which with START, END blanks and between each character\n",
        "    \"\"\"\n",
        "    modified_sequence = []\n",
        "    \n",
        "    for idx in sequence:\n",
        "        modified_sequence += [blank_idx, idx]\n",
        "        \n",
        "    modified_sequence.append(blank_idx)\n",
        "    return modified_sequence"
      ],
      "metadata": {
        "cellId": "jarxy3gwdllxcqufdtz4f",
        "trusted": true,
        "id": "txJlCJg5WRkE"
      },
      "outputs": [],
      "execution_count": null
    },
    {
      "cell_type": "code",
      "source": [
        "tokenizer = Tokenizer()"
      ],
      "metadata": {
        "cellId": "0ooa5ngmu9wdw9hog4djvf",
        "trusted": true,
        "id": "YTh4ud7PWRkF"
      },
      "outputs": [],
      "execution_count": null
    },
    {
      "cell_type": "markdown",
      "source": [
        "## Obtain Soft-Alignment via CTC Forward-Backward Algorithm (8 points)\n",
        "\n",
        "Use your newfound knowledge of the CTC forward-backward algorithm to obtain a soft-alignment\n",
        "\n",
        "Remember, that the forward variable is computed as follows:\n",
        "\n",
        "$$\n",
        "  \\begin{aligned}\n",
        "    &\\alpha_t(0) = 0, \\forall t & \\\\\n",
        "    &\\alpha_1(1) = {\\tt P}(z_1 = \\epsilon | \\mathbf{X}_{1:T}), &\\\\\n",
        "    &\\alpha_1(2) = {\\tt P}(z_1 = \\omega^{'}_2 | \\mathbf{X}_{1:T}), &\\\\\n",
        "    &\\alpha_1(s) = 0,\\ \\forall s > 2 &\\\\\n",
        "    &\\alpha_t(s) = 0,\\ \\forall s < (2L+1) -2(T-t) -1 &  \\text{top right zeros}\\\\\n",
        "    &\\alpha_t(s) = \\left \\{\n",
        "  \\begin{aligned}\n",
        "    &\\big(\\alpha_{t-1}(s) + \\alpha_{t-1}(s-1) \\big) {\\tt P}(z_t = \\omega^{'}_s | \\mathbf{X}_{1:T}) & \\text{if}\\ \\omega_s^{'} = \\epsilon\\ \\text{or}\\\n",
        "    \\omega_s^{'} = \\omega_{s-2}^{'} \\\\\n",
        "    &\\big(\\alpha_{t-1}(s) + \\alpha_{t-1}(s-1) + \\alpha_{t-1}(s-2)\\big) {\\tt P}(z_t = \\omega^{'}_s | \\mathbf{X}_{1:T}) & \\text{otherwise}\\\\\n",
        "  \\end{aligned} \\right. \n",
        "  \\end{aligned}\n",
        "$$\n",
        "\n",
        "Backward Variable is computeed like so:\n",
        "\n",
        "$$\n",
        "  \\begin{aligned}\n",
        "    &\\beta_T(2L+1) = 1 &\\\\\n",
        "    &\\beta_T(2L) = 1 & \\\\\n",
        "    &\\beta_T(s) = 0, \\forall s < 2L &\\\\\n",
        "    &\\beta_t(s) = 0,\\ \\forall s > 2t &\\\\\n",
        "    &\\beta_t(2L+2) = 0,\\ \\forall t  & \\text{Bottom left zeros} \\\\\n",
        "    &\\beta_t(s) = \\left \\{\n",
        "  \\begin{aligned}\n",
        "    &\\big(\\beta_{t+1}(s) + \\beta_{t+1}(s+1) \\big) {\\tt P}(z_t = \\omega^{'}_s | \\mathbf{X}_{1:T}) & \\text{if}\\ \\omega_s^{'} = \\epsilon\\ \\text{or}\\\n",
        "    \\omega_s^{'} = \\omega_{s+2}^{'} \\\\\n",
        "    &\\big(\\beta_{t+1}(s) +\\beta_{t+1}(s+1) + \\beta_{t+1}(s+2)\\big) {\\tt P}(z_t = \\omega^{'}_s | \\mathbf{X}_{1:T}) & \\text{otherwise}\\\\\n",
        "  \\end{aligned} \\right. \n",
        "  \\end{aligned}\n",
        "$$\n",
        "\n",
        "The alignment is then given as:\n",
        "\n",
        "$$\n",
        "  \\text{align}_t(s) = \\frac{\\alpha_t(s)\\beta_t(s)}{\\sum_{s}\\alpha_t(s)\\beta_t(s)}\n",
        "$$\n",
        "\n",
        "\n",
        "Doing the computation in Probability space can be numerically unstable, so you should do it in Log-Space using the\n",
        "provided logsumexp operation. Remember to return to prob space at the end. You should get something like:\n",
        "\n",
        "<img src=\"alignment.png\">\n",
        "\n",
        "If you convert the alignment to log-space it will look like:\n",
        "\n",
        "<img src=\"alignment_log.png\">"
      ],
      "metadata": {
        "cellId": "3lkqllygp9flmj29013zsg",
        "id": "ylo4jDNtWRkF"
      }
    },
    {
      "cell_type": "code",
      "source": [
        "#!L\n",
        "\n",
        "def forward_algorithm(sequence, matrix, blank=28):\n",
        "    # Matrix is has shape [K, T]\n",
        "\n",
        "    # Turn probs into log-probs\n",
        "    matrix = np.log(matrix)\n",
        "\n",
        "    # Create modified sequence which with START, END blanks and between each character\n",
        "    mod_sequence = [sequence[int((i-1)/2)] if i % 2 !=0 else blank for i in range(len(sequence)*2+1)]\n",
        "    \n",
        "\n",
        "    # Initialze\n",
        "    alphas = np.full([len(mod_sequence), matrix.shape[1]], NEG_INF)\n",
        "\n",
        "    for t in range(matrix.shape[1]):\n",
        "        for s in range(len(mod_sequence)):\n",
        "            #First Step\n",
        "            alphas[0][t] = ...\n",
        "            alphas[1][t] = ...\n",
        "                \n",
        "            # Diagonal zeros\n",
        "            elif <Cond>:\n",
        "                continue\n",
        "                \n",
        "            else:\n",
        "                # Need to do this stabily\n",
        "                if s == 0:\n",
        "                    alphas[s][t] = ... \n",
        "\n",
        "                elif s == 1:\n",
        "                    alphas[s][t] = logsumexp(alphas[s][t-1], alphas[s-1][t-1]) + matrix[...][...] \n",
        "                    \n",
        "                else:\n",
        "                    if mod_sequence[s] == blank or mod_sequence[s] == mod_sequence[s - 2]:\n",
        "                        alphas[s][t] = logsumexp(...)+matrix[...][...] \n",
        "                    else:\n",
        "                        alphas[s][t] = logsumexp(...)+matrix[...][...] \n",
        "    return alphas"
      ],
      "metadata": {
        "cellId": "hz15vjonrhcd0goeoye94",
        "trusted": true,
        "id": "ZOGMZItAWRkG"
      },
      "outputs": [],
      "execution_count": null
    },
    {
      "cell_type": "code",
      "source": [
        "def backward_algorithm(sequence, matrix, blank=28):\n",
        "    # Matrix has shape [K, T] where K - 29 \n",
        "\n",
        "    # Turn probs into log-probs\n",
        "    matrix = np.log(matrix)\n",
        "\n",
        "    # Create modified sequence which with START, END blanks and between each character\n",
        "    mod_sequence = [sequence[int((i-1)/2)] if i % 2 !=0 else blank for i in range(len(sequence)*2+1)]\n",
        "\n",
        "    betas = np.full([len(mod_sequence), matrix.shape[1]], NEG_INF)\n",
        "\n",
        "    for t in reversed(range(matrix.shape[1])):\n",
        "        for s in reversed(range(len(mod_sequence))):\n",
        "            #First Step\n",
        "            if t == matrix.shape[1]-1:\n",
        "                betas[len(mod_sequence)-1][t] = 0\n",
        "                betas[len(mod_sequence)-2][t] = 0\n",
        "            #Diagonal Zeros\n",
        "            elif <cond>:\n",
        "                continue\n",
        "            else:\n",
        "                if s == len(mod_sequence)-1:\n",
        "                    betas[s][t] = ... \n",
        "\n",
        "                elif s == len(mod_sequence)-2:\n",
        "                    betas[s][t] = logsumexp(...) + matrix[...][...] \n",
        "\n",
        "                else:\n",
        "                    if mod_sequence[s] == blank or mod_sequence[s] == mod_sequence[s + 2]:\n",
        "                        betas[s][t] = logsumexp(...) + matrix[...][...] \n",
        "                    else:\n",
        "                        betas[s][t] = logsumexp(...) + matrix[...][...] \n",
        "    return betas"
      ],
      "metadata": {
        "id": "SZcwip79aC7O"
      },
      "execution_count": null,
      "outputs": []
    },
    {
      "cell_type": "code",
      "source": [
        "def soft_alignment(labels_indecies, matrix):\n",
        "    alphas = forward_algorithm(labels_indecies, matrix)\n",
        "    betas = backward_algorithm(labels_indecies, matrix)\n",
        "\n",
        "\n",
        "    # Move from log space back to prob space\n",
        "    align = np.exp(...)\n",
        "\n",
        "    # Normalize Alignment\n",
        "    align = ...\n",
        "\n",
        "    return align"
      ],
      "metadata": {
        "id": "77ov6Zuwa4FH"
      },
      "execution_count": null,
      "outputs": []
    },
    {
      "cell_type": "code",
      "source": [
        "#!l\n",
        "# Test your implementation\n",
        "\n",
        "#Load numpy matrix, add axis [classes,time]\n",
        "matrix = np.loadtxt('week_05_files/test_matrix.txt')\n",
        "# Create label_sequence\n",
        "labels_indecies = tokenizer.text_to_indices('there se ms no good reason for believing that twillc ange')\n",
        "\n",
        "align = soft_alignment(labels_indecies, matrix)\n",
        "\n",
        "plt.figure(dpi=150)\n",
        "plt.imshow(align, aspect='auto', interpolation='nearest')\n",
        "plt.colorbar()\n",
        "\n",
        "\n",
        "plt.figure(dpi=150)\n",
        "plt.imshow(np.log(align), aspect='auto', interpolation='nearest')\n",
        "plt.colorbar()\n",
        "\n",
        "\n",
        "ref_align = np.loadtxt('week_05_files/soft_alignment.txt')\n",
        "\n",
        "assert np.allclose(ref_align, align)"
      ],
      "metadata": {
        "cellId": "j0hk1mmq56mit6ldayht",
        "trusted": true,
        "id": "Lh8-1idfWRkH",
        "outputId": "4f04edf8-fbd4-4a15-cfb8-a12ef2fba23b",
        "colab": {
          "base_uri": "https://localhost:8080/",
          "height": 1000
        }
      },
      "outputs": [
        {
          "output_type": "stream",
          "name": "stderr",
          "text": [
            "/usr/local/lib/python3.7/dist-packages/ipykernel_launcher.py:17: RuntimeWarning: divide by zero encountered in log\n"
          ]
        },
        {
          "output_type": "display_data",
          "data": {
            "text/plain": [
              "<Figure size 900x600 with 2 Axes>"
            ],
            "image/png": "[encoded data removed]"
          },
          "metadata": {
            "needs_background": "light"
          }
        },
        {
          "output_type": "display_data",
          "data": {
            "text/plain": [
              "<Figure size 900x600 with 2 Axes>"
            ],
            "image/png": "[encoded data removed]"
          },
          "metadata": {
            "needs_background": "light"
          }
        }
      ],
      "execution_count": null
    },
    {
      "cell_type": "markdown",
      "source": [
        "## Implement a Greedy Best-Path Decoder! (2 points)\n",
        "\n",
        "Your goal is to implement a Greedy Best-Path decoder. Remember than in CTC the joint distribution over states factors out into a product of marginals:\n",
        "\n",
        "$${\\tt P}(\\mathbf{z}_{1:T}|\\mathbf{X}_{1:T},\\mathbf{\\theta}) = \\prod_{1:T}^T{\\tt P}(z_t|\\mathbf{X}_{1:T},\\mathbf{\\theta})$$\n",
        "\n",
        "Mostly likely state sequence is:\n",
        "\n",
        "$$\\mathbf{\\pi}^*_{1:T} = \\arg \\max_{\\mathbf{pi}_{1:T} } \\prod_{t=1}^T {\\tt P}(z_t = \\pi_t|\\mathbf{X}_{1:T})$$\n",
        "\n",
        "Then merge repeats and remove blanks."
      ],
      "metadata": {
        "cellId": "eignaazwtkqbepk36j4zm",
        "id": "S24QOdrpWRkI"
      }
    },
    {
      "cell_type": "code",
      "source": [
        "#!L\n",
        "def GreedyDecoder(output: torch.Tensor, labels: list, label_lengths: list, blank_label=28, collapse_repeated=True):\n",
        "    \"\"\"ist\n",
        "    :param output: torch.Tensor of Probs or Log-Probs of shape [batch, time, classes]\n",
        "    :param labels: Listof torch.Tensor of label indecies\n",
        "    :param label_lengths:  int of label lengths\n",
        "    :param blank_label:\n",
        "    :param collapse_repeated:\n",
        "    :return: \n",
        "    \"\"\"\n",
        "\n",
        "    # Get max class\n",
        "    arg_maxes = np.argmax(output, axis=-1)\n",
        "\n",
        "    decodes = []\n",
        "    targets = []\n",
        "\n",
        "    \n",
        "    for i, args in enumerate(arg_maxes):\n",
        "        decode = []\n",
        "\n",
        "        targets.append(tokenizer.indecies_to_text(labels[i][:label_lengths[i]].tolist()))\n",
        "\n",
        "        # Remove repeeats, then remove blanks\n",
        "\n",
        "        for j, index in enumerate(args):\n",
        "            if <cond>:\n",
        "                if collapse_repeated and <cond>:\n",
        "                    continue\n",
        "                decode.append(index.item())\n",
        "        decodes.append(tokenizer.indecies_to_text(decode))\n",
        "    return decodes, targets"
      ],
      "metadata": {
        "cellId": "jzbg8qm8vcrinevp9y0dok",
        "trusted": true,
        "id": "1tDgeTtHWRkI"
      },
      "outputs": [],
      "execution_count": null
    },
    {
      "cell_type": "code",
      "source": [
        "#!L\n",
        "# TESTING THE GREEDY DECODER\n",
        "\n",
        "#Load numpy matrix, add axis [batch,classes,time]\n",
        "matrix = np.loadtxt('week_05_files/test_matrix.txt')[np.newaxis,:,:]\n",
        "\n",
        "# Turn into Torch Tensor of shape [batch, time, classes]\n",
        "matrix = torch.Tensor(matrix).transpose(1,2)\n",
        "\n",
        "# Create list of torch tensor\n",
        "labels_indecies = [torch.Tensor(tokenizer.text_to_indices('there seems no good reason for believing that it will change'))]\n",
        "\n",
        "# Run the Decoder\n",
        "decodes, targets = GreedyDecoder(matrix, labels_indecies, [len(labels_indecies[0])])\n",
        "\n",
        "assert decodes[0] == 'there se ms no good reason for believing that twillc ange'\n",
        "assert targets[0] == 'there seems no good reason for believing that it will change'"
      ],
      "metadata": {
        "cellId": "se7g7cudhf1r43b40icy9",
        "trusted": true,
        "id": "BstRZQxDWRkJ"
      },
      "outputs": [],
      "execution_count": null
    }
  ]
}